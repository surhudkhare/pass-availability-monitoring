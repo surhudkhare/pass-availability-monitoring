{
 "cells": [
  {
   "cell_type": "code",
   "execution_count": 1,
   "metadata": {},
   "outputs": [],
   "source": [
    "from selenium import webdriver\n",
    "from selenium.webdriver.common.by import By\n",
    "from selenium.webdriver.support.ui import WebDriverWait\n",
    "from selenium.webdriver.support import expected_conditions as EC"
   ]
  },
  {
   "cell_type": "code",
   "execution_count": 2,
   "metadata": {},
   "outputs": [],
   "source": [
    "from dotenv import load_dotenv\n",
    "load_dotenv()\n",
    "import os"
   ]
  },
  {
   "cell_type": "code",
   "execution_count": 3,
   "metadata": {},
   "outputs": [
    {
     "ename": "ElementClickInterceptedException",
     "evalue": "Message: element click intercepted: Element <div role=\"gridcell\" class=\"ngb-dp-day disabled\" tabindex=\"-1\" aria-label=\"Saturday, July 20, 2024\">...</div> is not clickable at point (869, 496). Other element would receive the click: <div role=\"row\" class=\"ngb-dp-week\">...</div>\n  (Session info: chrome=126.0.6478.183)\nStacktrace:\n0   chromedriver                        0x000000010452aa0c chromedriver + 4385292\n1   chromedriver                        0x0000000104523318 chromedriver + 4354840\n2   chromedriver                        0x0000000104140b0c chromedriver + 281356\n3   chromedriver                        0x0000000104188ce0 chromedriver + 576736\n4   chromedriver                        0x0000000104187284 chromedriver + 569988\n5   chromedriver                        0x0000000104185414 chromedriver + 562196\n6   chromedriver                        0x00000001041845b0 chromedriver + 558512\n7   chromedriver                        0x0000000104179cfc chromedriver + 515324\n8   chromedriver                        0x0000000104179734 chromedriver + 513844\n9   chromedriver                        0x00000001041bbd24 chromedriver + 785700\n10  chromedriver                        0x0000000104177eec chromedriver + 507628\n11  chromedriver                        0x00000001041788c4 chromedriver + 510148\n12  chromedriver                        0x00000001044f23c8 chromedriver + 4154312\n13  chromedriver                        0x00000001044f6e2c chromedriver + 4173356\n14  chromedriver                        0x00000001044d7f84 chromedriver + 4046724\n15  chromedriver                        0x00000001044f7718 chromedriver + 4175640\n16  chromedriver                        0x00000001044caf44 chromedriver + 3993412\n17  chromedriver                        0x00000001045151a8 chromedriver + 4297128\n18  chromedriver                        0x0000000104515324 chromedriver + 4297508\n19  chromedriver                        0x0000000104522f10 chromedriver + 4353808\n20  libsystem_pthread.dylib             0x0000000198946f94 _pthread_start + 136\n21  libsystem_pthread.dylib             0x0000000198941d34 thread_start + 8\n",
     "output_type": "error",
     "traceback": [
      "\u001b[0;31m---------------------------------------------------------------------------\u001b[0m",
      "\u001b[0;31mElementClickInterceptedException\u001b[0m          Traceback (most recent call last)",
      "Cell \u001b[0;32mIn[3], line 43\u001b[0m\n\u001b[1;32m     40\u001b[0m     \u001b[38;5;28;01mfinally\u001b[39;00m:\n\u001b[1;32m     41\u001b[0m         driver\u001b[38;5;241m.\u001b[39mquit()\n\u001b[0;32m---> 43\u001b[0m \u001b[43mcheck_availability\u001b[49m\u001b[43m(\u001b[49m\u001b[43mpark_name\u001b[49m\u001b[38;5;241;43m=\u001b[39;49m\u001b[38;5;124;43m\"\u001b[39;49m\u001b[38;5;124;43mJoffre\u001b[39;49m\u001b[38;5;124;43m\"\u001b[39;49m\u001b[43m,\u001b[49m\u001b[43m \u001b[49m\u001b[43mtrail_name\u001b[49m\u001b[38;5;241;43m=\u001b[39;49m\u001b[38;5;124;43m\"\u001b[39;49m\u001b[38;5;124;43mJoffre\u001b[39;49m\u001b[38;5;124;43m\"\u001b[39;49m\u001b[43m,\u001b[49m\u001b[43m \u001b[49m\u001b[43mtarget_date\u001b[49m\u001b[38;5;241;43m=\u001b[39;49m\u001b[38;5;124;43m\"\u001b[39;49m\u001b[38;5;124;43m2024-07-20\u001b[39;49m\u001b[38;5;124;43m\"\u001b[39;49m\u001b[43m)\u001b[49m\n",
      "Cell \u001b[0;32mIn[3], line 25\u001b[0m, in \u001b[0;36mcheck_availability\u001b[0;34m(park_name, trail_name, target_date)\u001b[0m\n\u001b[1;32m     21\u001b[0m date_selector \u001b[38;5;241m=\u001b[39m WebDriverWait(driver, \u001b[38;5;241m10\u001b[39m)\u001b[38;5;241m.\u001b[39muntil(\n\u001b[1;32m     22\u001b[0m     EC\u001b[38;5;241m.\u001b[39melement_to_be_clickable((By\u001b[38;5;241m.\u001b[39mXPATH, \u001b[38;5;124m\"\u001b[39m\u001b[38;5;124m/html/body/app-root/div/div[2]/app-registration/div/div/div/div/div[2]/app-facility-select/form/div/app-date-picker/fieldset/ngb-datepicker/div[2]/div/ngb-datepicker-month/div[4]/div[7]\u001b[39m\u001b[38;5;124m\"\u001b[39m))\n\u001b[1;32m     23\u001b[0m )\n\u001b[1;32m     24\u001b[0m date_selector\u001b[38;5;241m.\u001b[39msend_keys(target_date)\n\u001b[0;32m---> 25\u001b[0m \u001b[43mdate_selector\u001b[49m\u001b[38;5;241;43m.\u001b[39;49m\u001b[43mclick\u001b[49m\u001b[43m(\u001b[49m\u001b[43m)\u001b[49m\n\u001b[1;32m     27\u001b[0m \u001b[38;5;66;03m# Select a hike from the dropdown menu\u001b[39;00m\n\u001b[1;32m     28\u001b[0m hike_select \u001b[38;5;241m=\u001b[39m WebDriverWait(driver, \u001b[38;5;241m10\u001b[39m)\u001b[38;5;241m.\u001b[39muntil(\n\u001b[1;32m     29\u001b[0m     EC\u001b[38;5;241m.\u001b[39melement_to_be_clickable((By\u001b[38;5;241m.\u001b[39mXPATH, \u001b[38;5;124mf\u001b[39m\u001b[38;5;124m\"\u001b[39m\u001b[38;5;124m//select//option[contains(., \u001b[39m\u001b[38;5;124m'\u001b[39m\u001b[38;5;132;01m{\u001b[39;00mtrail_name\u001b[38;5;132;01m}\u001b[39;00m\u001b[38;5;124m'\u001b[39m\u001b[38;5;124m)]\u001b[39m\u001b[38;5;124m\"\u001b[39m))\n\u001b[1;32m     30\u001b[0m )\n",
      "File \u001b[0;32m~/Desktop/Workspaces/passes-availability-monitoring/.conda/lib/python3.12/site-packages/selenium/webdriver/remote/webelement.py:94\u001b[0m, in \u001b[0;36mWebElement.click\u001b[0;34m(self)\u001b[0m\n\u001b[1;32m     92\u001b[0m \u001b[38;5;28;01mdef\u001b[39;00m \u001b[38;5;21mclick\u001b[39m(\u001b[38;5;28mself\u001b[39m) \u001b[38;5;241m-\u001b[39m\u001b[38;5;241m>\u001b[39m \u001b[38;5;28;01mNone\u001b[39;00m:\n\u001b[1;32m     93\u001b[0m \u001b[38;5;250m    \u001b[39m\u001b[38;5;124;03m\"\"\"Clicks the element.\"\"\"\u001b[39;00m\n\u001b[0;32m---> 94\u001b[0m     \u001b[38;5;28;43mself\u001b[39;49m\u001b[38;5;241;43m.\u001b[39;49m\u001b[43m_execute\u001b[49m\u001b[43m(\u001b[49m\u001b[43mCommand\u001b[49m\u001b[38;5;241;43m.\u001b[39;49m\u001b[43mCLICK_ELEMENT\u001b[49m\u001b[43m)\u001b[49m\n",
      "File \u001b[0;32m~/Desktop/Workspaces/passes-availability-monitoring/.conda/lib/python3.12/site-packages/selenium/webdriver/remote/webelement.py:395\u001b[0m, in \u001b[0;36mWebElement._execute\u001b[0;34m(self, command, params)\u001b[0m\n\u001b[1;32m    393\u001b[0m     params \u001b[38;5;241m=\u001b[39m {}\n\u001b[1;32m    394\u001b[0m params[\u001b[38;5;124m\"\u001b[39m\u001b[38;5;124mid\u001b[39m\u001b[38;5;124m\"\u001b[39m] \u001b[38;5;241m=\u001b[39m \u001b[38;5;28mself\u001b[39m\u001b[38;5;241m.\u001b[39m_id\n\u001b[0;32m--> 395\u001b[0m \u001b[38;5;28;01mreturn\u001b[39;00m \u001b[38;5;28;43mself\u001b[39;49m\u001b[38;5;241;43m.\u001b[39;49m\u001b[43m_parent\u001b[49m\u001b[38;5;241;43m.\u001b[39;49m\u001b[43mexecute\u001b[49m\u001b[43m(\u001b[49m\u001b[43mcommand\u001b[49m\u001b[43m,\u001b[49m\u001b[43m \u001b[49m\u001b[43mparams\u001b[49m\u001b[43m)\u001b[49m\n",
      "File \u001b[0;32m~/Desktop/Workspaces/passes-availability-monitoring/.conda/lib/python3.12/site-packages/selenium/webdriver/remote/webdriver.py:354\u001b[0m, in \u001b[0;36mWebDriver.execute\u001b[0;34m(self, driver_command, params)\u001b[0m\n\u001b[1;32m    352\u001b[0m response \u001b[38;5;241m=\u001b[39m \u001b[38;5;28mself\u001b[39m\u001b[38;5;241m.\u001b[39mcommand_executor\u001b[38;5;241m.\u001b[39mexecute(driver_command, params)\n\u001b[1;32m    353\u001b[0m \u001b[38;5;28;01mif\u001b[39;00m response:\n\u001b[0;32m--> 354\u001b[0m     \u001b[38;5;28;43mself\u001b[39;49m\u001b[38;5;241;43m.\u001b[39;49m\u001b[43merror_handler\u001b[49m\u001b[38;5;241;43m.\u001b[39;49m\u001b[43mcheck_response\u001b[49m\u001b[43m(\u001b[49m\u001b[43mresponse\u001b[49m\u001b[43m)\u001b[49m\n\u001b[1;32m    355\u001b[0m     response[\u001b[38;5;124m\"\u001b[39m\u001b[38;5;124mvalue\u001b[39m\u001b[38;5;124m\"\u001b[39m] \u001b[38;5;241m=\u001b[39m \u001b[38;5;28mself\u001b[39m\u001b[38;5;241m.\u001b[39m_unwrap_value(response\u001b[38;5;241m.\u001b[39mget(\u001b[38;5;124m\"\u001b[39m\u001b[38;5;124mvalue\u001b[39m\u001b[38;5;124m\"\u001b[39m, \u001b[38;5;28;01mNone\u001b[39;00m))\n\u001b[1;32m    356\u001b[0m     \u001b[38;5;28;01mreturn\u001b[39;00m response\n",
      "File \u001b[0;32m~/Desktop/Workspaces/passes-availability-monitoring/.conda/lib/python3.12/site-packages/selenium/webdriver/remote/errorhandler.py:229\u001b[0m, in \u001b[0;36mErrorHandler.check_response\u001b[0;34m(self, response)\u001b[0m\n\u001b[1;32m    227\u001b[0m         alert_text \u001b[38;5;241m=\u001b[39m value[\u001b[38;5;124m\"\u001b[39m\u001b[38;5;124malert\u001b[39m\u001b[38;5;124m\"\u001b[39m]\u001b[38;5;241m.\u001b[39mget(\u001b[38;5;124m\"\u001b[39m\u001b[38;5;124mtext\u001b[39m\u001b[38;5;124m\"\u001b[39m)\n\u001b[1;32m    228\u001b[0m     \u001b[38;5;28;01mraise\u001b[39;00m exception_class(message, screen, stacktrace, alert_text)  \u001b[38;5;66;03m# type: ignore[call-arg]  # mypy is not smart enough here\u001b[39;00m\n\u001b[0;32m--> 229\u001b[0m \u001b[38;5;28;01mraise\u001b[39;00m exception_class(message, screen, stacktrace)\n",
      "\u001b[0;31mElementClickInterceptedException\u001b[0m: Message: element click intercepted: Element <div role=\"gridcell\" class=\"ngb-dp-day disabled\" tabindex=\"-1\" aria-label=\"Saturday, July 20, 2024\">...</div> is not clickable at point (869, 496). Other element would receive the click: <div role=\"row\" class=\"ngb-dp-week\">...</div>\n  (Session info: chrome=126.0.6478.183)\nStacktrace:\n0   chromedriver                        0x000000010452aa0c chromedriver + 4385292\n1   chromedriver                        0x0000000104523318 chromedriver + 4354840\n2   chromedriver                        0x0000000104140b0c chromedriver + 281356\n3   chromedriver                        0x0000000104188ce0 chromedriver + 576736\n4   chromedriver                        0x0000000104187284 chromedriver + 569988\n5   chromedriver                        0x0000000104185414 chromedriver + 562196\n6   chromedriver                        0x00000001041845b0 chromedriver + 558512\n7   chromedriver                        0x0000000104179cfc chromedriver + 515324\n8   chromedriver                        0x0000000104179734 chromedriver + 513844\n9   chromedriver                        0x00000001041bbd24 chromedriver + 785700\n10  chromedriver                        0x0000000104177eec chromedriver + 507628\n11  chromedriver                        0x00000001041788c4 chromedriver + 510148\n12  chromedriver                        0x00000001044f23c8 chromedriver + 4154312\n13  chromedriver                        0x00000001044f6e2c chromedriver + 4173356\n14  chromedriver                        0x00000001044d7f84 chromedriver + 4046724\n15  chromedriver                        0x00000001044f7718 chromedriver + 4175640\n16  chromedriver                        0x00000001044caf44 chromedriver + 3993412\n17  chromedriver                        0x00000001045151a8 chromedriver + 4297128\n18  chromedriver                        0x0000000104515324 chromedriver + 4297508\n19  chromedriver                        0x0000000104522f10 chromedriver + 4353808\n20  libsystem_pthread.dylib             0x0000000198946f94 _pthread_start + 136\n21  libsystem_pthread.dylib             0x0000000198941d34 thread_start + 8\n"
     ]
    }
   ],
   "source": [
    "def check_availability(park_name, trail_name, target_date):\n",
    "    try:\n",
    "        # Initialize the WebDriver\n",
    "        driver = webdriver.Chrome()\n",
    "        driver.get(\"https://reserve.bcparks.ca/dayuse/\")\n",
    "\n",
    "        park_button = WebDriverWait(driver, 10).until(\n",
    "            EC.element_to_be_clickable((By.XPATH, f\"//button[contains(@aria-label, '{park_name}')]\"))\n",
    "        )\n",
    "\n",
    "        # Click the park button\n",
    "        park_button.click()\n",
    "\n",
    "        # Click on the date field\n",
    "        date_field = WebDriverWait(driver, 10).until(\n",
    "            EC.element_to_be_clickable((By.XPATH, \"/html/body/app-root/div/div[2]/app-registration/div/div/div/div/div[2]/app-facility-select/form/div/app-date-picker/fieldset\"))\n",
    "        )\n",
    "        date_field.click()\n",
    "\n",
    "        # Click on a specific date in the date picker\n",
    "        date_selector = WebDriverWait(driver, 10).until(\n",
    "            EC.element_to_be_clickable((By.XPATH, \"/html/body/app-root/div/div[2]/app-registration/div/div/div/div/div[2]/app-facility-select/form/div/app-date-picker/fieldset/ngb-datepicker/div[2]/div/ngb-datepicker-month/div[4]/div[7]\"))\n",
    "        )\n",
    "        date_selector.send_keys(target_date)\n",
    "        date_selector.click()\n",
    "\n",
    "        # Select a hike from the dropdown menu\n",
    "        hike_select = WebDriverWait(driver, 10).until(\n",
    "            EC.element_to_be_clickable((By.XPATH, f\"//select//option[contains(., '{trail_name}')]\"))\n",
    "        )\n",
    "        hike_select.click()\n",
    "\n",
    "        booking_options = driver.find_elements(By.CLASS_NAME, \"card-header\")\n",
    "        available = False\n",
    "        for b in booking_options:\n",
    "            if 'card-header-disabled' not in b.get_attribute('class'):\n",
    "                available = True\n",
    "        print(f\"{park_name} - {trail_name} - {available}\")\n",
    "        return available\n",
    "    finally:\n",
    "        driver.quit()\n",
    "\n",
    "check_availability(park_name=\"Joffre\", trail_name=\"Joffre\", target_date=\"2024-07-23\")"
   ]
  },
  {
   "cell_type": "code",
   "execution_count": null,
   "metadata": {},
   "outputs": [],
   "source": [
    "import smtplib\n",
    "from email.mime.text import MIMEText\n",
    "\n",
    "def send_email_notifications(to_email, subject, message):\n",
    "    from_email = os.getend('USERNAME')\n",
    "    password = os.getenv('USERNAME')\n",
    "\n",
    "    msg = MIMEText(message)\n",
    "    msg['Subject'] = subject\n",
    "    msg['From'] = from_email\n",
    "    msg['To'] = to_email\n",
    "\n",
    "    with smtplib.SMTP_SSL('smtp.gmail.com', 465) as server:\n",
    "        server.login(from_email, password)\n",
    "        server.sendmail(from_email, to_email, msg.as_string())\n",
    "\n",
    "def notify():\n",
    "    subject = 'GO GO GO'\n",
    "    message = 'The passes are now available! Check the website.'\n",
    "    send_email_notifications('sk22.social@gmail.com', subject, message)"
   ]
  },
  {
   "cell_type": "code",
   "execution_count": null,
   "metadata": {},
   "outputs": [],
   "source": [
    "import schedule\n",
    "import time\n",
    "\n",
    "def job():\n",
    "    if check_availability(park_name=\"Joffre\", trail_name=\"Joffre\", target_date=\"2024-07-23\"):\n",
    "        notify()\n",
    "\n",
    "schedule.every(5).minutes.do(job)\n",
    "\n",
    "while True:\n",
    "    schedule.run_pending()\n",
    "    time.sleep(1)"
   ]
  }
 ],
 "metadata": {
  "kernelspec": {
   "display_name": "Python 3",
   "language": "python",
   "name": "python3"
  },
  "language_info": {
   "codemirror_mode": {
    "name": "ipython",
    "version": 3
   },
   "file_extension": ".py",
   "mimetype": "text/x-python",
   "name": "python",
   "nbconvert_exporter": "python",
   "pygments_lexer": "ipython3",
   "version": "3.12.4"
  }
 },
 "nbformat": 4,
 "nbformat_minor": 2
}
