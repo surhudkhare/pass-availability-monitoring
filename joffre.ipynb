{
 "cells": [
  {
   "cell_type": "code",
   "execution_count": 1,
   "metadata": {},
   "outputs": [],
   "source": [
    "from selenium import webdriver\n",
    "from selenium.webdriver.common.by import By\n",
    "from selenium.webdriver.support.ui import WebDriverWait, Select\n",
    "from selenium.webdriver.support import expected_conditions as EC\n",
    "from selenium.webdriver.chrome.options import Options\n",
    "from dotenv import load_dotenv\n",
    "from selenium.webdriver.common.keys import Keys\n",
    "from selenium.webdriver.common.action_chains import ActionChains\n",
    "load_dotenv()\n",
    "import time\n",
    "import os\n",
    "from datetime import datetime\n",
    "\n",
    "chrome_options = Options()\n",
    "chrome_options.add_argument(\"--disable-notifications\")  # Disable notifications\n",
    "chrome_options.add_argument(\"--disable-popup-blocking\")  # Disable pop-up blocking\n"
   ]
  },
  {
   "cell_type": "code",
   "execution_count": 2,
   "metadata": {},
   "outputs": [
    {
     "data": {
      "text/plain": [
       "'Thursday, July 25, 2024'"
      ]
     },
     "execution_count": 2,
     "metadata": {},
     "output_type": "execute_result"
    }
   ],
   "source": [
    "def get_date_string(date):\n",
    "    date_object = time.strptime(date, \"%Y-%m-%d\")\n",
    "    return time.strftime(\"%A, %B %d, %Y\", date_object)\n",
    "get_date_string(\"2024-07-25\")"
   ]
  },
  {
   "cell_type": "code",
   "execution_count": 3,
   "metadata": {},
   "outputs": [
    {
     "name": "stdout",
     "output_type": "stream",
     "text": [
      "['Diamond Head - Parking']\n"
     ]
    }
   ],
   "source": [
    "# Somehow works for all by index in Firefox\n",
    "park_name=\"Garibaldi\"\n",
    "desired_date_string=get_date_string(\"2024-07-25\")\n",
    "driver = webdriver.Firefox()\n",
    "driver.get(\"https://reserve.bcparks.ca/dayuse/\")\n",
    "driver.maximize_window()\n",
    "\n",
    "park_button = WebDriverWait(driver, 20).until(\n",
    "    EC.element_to_be_clickable((By.XPATH, f\"//button[contains(@aria-label, '{park_name}')]\"))\n",
    ")\n",
    "park_button.click()\n",
    "\n",
    "# Click the date dropdown\n",
    "date_dropdown = WebDriverWait(driver, 20).until(\n",
    "    EC.element_to_be_clickable((By.XPATH, \"//app-date-picker/fieldset\"))\n",
    ")\n",
    "date_dropdown.click()\n",
    "\n",
    "# Select the date\n",
    "date_selector = WebDriverWait(driver, 20).until(\n",
    "    EC.element_to_be_clickable((By.XPATH, f\"//div[@role='gridcell' and @aria-label='{desired_date_string}']\"))\n",
    ")\n",
    "date_selector.click()\n",
    "\n",
    "# Somehow this fixes the issue\n",
    "time.sleep(3)\n",
    "\n",
    "\n",
    "wait = WebDriverWait(driver, 20)\n",
    "dropdown_element = wait.until(EC.element_to_be_clickable((By.ID, 'passType')))\n",
    "dropdown_element.click()\n",
    "dropdown = Select(dropdown_element)\n",
    "dropdown.select_by_index(2)\n",
    "print([o.text for o in dropdown.all_selected_options])"
   ]
  },
  {
   "cell_type": "code",
   "execution_count": 4,
   "metadata": {},
   "outputs": [
    {
     "name": "stdout",
     "output_type": "stream",
     "text": [
      "['Diamond Head - Parking']\n"
     ]
    }
   ],
   "source": [
    "# Works for Chrome with an extra click in the balnk area after selection\n",
    "park_name=\"Garibaldi\"\n",
    "desired_date_string=get_date_string(\"2024-07-25\")\n",
    "driver = webdriver.Chrome()\n",
    "driver.get(\"https://reserve.bcparks.ca/dayuse/\")\n",
    "driver.maximize_window()\n",
    "\n",
    "park_button = WebDriverWait(driver, 20).until(\n",
    "    EC.element_to_be_clickable((By.XPATH, f\"//button[contains(@aria-label, '{park_name}')]\"))\n",
    ")\n",
    "park_button.click()\n",
    "\n",
    "# Click the date dropdown\n",
    "date_dropdown = WebDriverWait(driver, 20).until(\n",
    "    EC.element_to_be_clickable((By.XPATH, \"//app-date-picker/fieldset\"))\n",
    ")\n",
    "date_dropdown.click()\n",
    "\n",
    "# Select the date\n",
    "date_selector = WebDriverWait(driver, 20).until(\n",
    "    EC.element_to_be_clickable((By.XPATH, f\"//div[@role='gridcell' and @aria-label='{desired_date_string}']\"))\n",
    ")\n",
    "date_selector.click()\n",
    "\n",
    "# Somehow this fixes the issue\n",
    "time.sleep(3)\n",
    "\n",
    "\n",
    "wait = WebDriverWait(driver, 20)\n",
    "dropdown_element = wait.until(EC.element_to_be_clickable((By.ID, 'passType')))\n",
    "dropdown_element.click()\n",
    "dropdown = Select(dropdown_element)\n",
    "dropdown.select_by_index(2)\n",
    "print([o.text for o in dropdown.all_selected_options])\n",
    "blank_area = driver.find_element(By.TAG_NAME, 'body')\n",
    "blank_area.click()"
   ]
  },
  {
   "cell_type": "code",
   "execution_count": 5,
   "metadata": {},
   "outputs": [
    {
     "name": "stdout",
     "output_type": "stream",
     "text": [
      "Booking option clickable\n"
     ]
    }
   ],
   "source": [
    "# Find by partial name - works for both Chrome and Firefox\n",
    "import time\n",
    "\n",
    "park_name=\"Joffre\"\n",
    "trail_name=\"Joffre\"\n",
    "desired_date_string=get_date_string(\"2024-07-25\")\n",
    "driver = webdriver.Chrome()\n",
    "driver.maximize_window()\n",
    "driver.get(\"https://reserve.bcparks.ca/dayuse/\")\n",
    "\n",
    "park_button = WebDriverWait(driver, 20).until(\n",
    "    EC.element_to_be_clickable((By.XPATH, f\"//button[contains(@aria-label, '{park_name}')]\"))\n",
    ")\n",
    "# Click the park button\n",
    "park_button.click()\n",
    "\n",
    "# Click the date dropdown\n",
    "date_dropdown = WebDriverWait(driver, 20).until(\n",
    "    EC.element_to_be_clickable((By.XPATH, \"//app-date-picker/fieldset\"))\n",
    ")\n",
    "date_dropdown.click()\n",
    "\n",
    "date_selector = WebDriverWait(driver, 20).until(\n",
    "    EC.element_to_be_clickable((By.XPATH, f\"//div[@role='gridcell' and @aria-label='{desired_date_string}']\"))\n",
    ")\n",
    "date_selector.click()\n",
    "\n",
    "time.sleep(3)\n",
    "\n",
    "wait = WebDriverWait(driver, 20)\n",
    "dropdown_element = wait.until(EC.element_to_be_clickable((By.ID, 'passType')))\n",
    "dropdown_element.click()\n",
    "\n",
    "trail_option = wait.until(EC.element_to_be_clickable((By.XPATH, f\"//option[contains(text(), '{trail_name}')]\")))\n",
    "trail_option.click()\n",
    "\n",
    "blank_area = driver.find_element(By.TAG_NAME, 'body')\n",
    "blank_area.click()\n",
    "\n",
    "booking_option = wait.until(EC.element_to_be_clickable((By.XPATH, f\"/html/body/app-root/div/div[2]/app-registration/div/div/div/div/div[2]/app-facility-select/form/fieldset[2]/div/label/div\")))"
   ]
  }
 ],
 "metadata": {
  "kernelspec": {
   "display_name": "Python 3",
   "language": "python",
   "name": "python3"
  },
  "language_info": {
   "codemirror_mode": {
    "name": "ipython",
    "version": 3
   },
   "file_extension": ".py",
   "mimetype": "text/x-python",
   "name": "python",
   "nbconvert_exporter": "python",
   "pygments_lexer": "ipython3",
   "version": "3.12.4"
  }
 },
 "nbformat": 4,
 "nbformat_minor": 2
}
