{
 "cells": [
  {
   "cell_type": "code",
   "execution_count": 40,
   "metadata": {},
   "outputs": [
    {
     "name": "stdout",
     "output_type": "stream",
     "text": [
      "Disables\n"
     ]
    }
   ],
   "source": [
    "from selenium import webdriver\n",
    "from selenium.webdriver.common.by import By\n",
    "from selenium.webdriver.support.ui import WebDriverWait\n",
    "from selenium.webdriver.support import expected_conditions as EC\n",
    "from selenium.webdriver.support.ui import Select\n",
    "\n",
    "# Initialize the WebDriver (assuming Chrome here)\n",
    "driver = webdriver.Chrome()\n",
    "driver.get(\"https://reserve.bcparks.ca/dayuse/registration\")\n",
    "\n",
    "try:\n",
    "    # Click on the button for Joffre Lakes\n",
    "    joffre_selector = WebDriverWait(driver, 10).until(\n",
    "        EC.element_to_be_clickable((By.XPATH, \"/html/body/app-root/div/div[2]/app-home/div[3]/app-parks-list/app-list/app-table-template/div/table/tbody/tr/div/div[3]/app-card/div/div/div[2]/div[2]/button\"))\n",
    "    )\n",
    "    joffre_selector.click()\n",
    "\n",
    "    # Click on the date field\n",
    "    date_field = WebDriverWait(driver, 10).until(\n",
    "        EC.element_to_be_clickable((By.XPATH, \"/html/body/app-root/div/div[2]/app-registration/div/div/div/div/div[2]/app-facility-select/form/div/app-date-picker/fieldset\"))\n",
    "    )\n",
    "    date_field.click()\n",
    "\n",
    "    # Click on a specific date in the date picker\n",
    "    date_selector = WebDriverWait(driver, 10).until(\n",
    "        EC.element_to_be_clickable((By.XPATH, \"/html/body/app-root/div/div[2]/app-registration/div/div/div/div/div[2]/app-facility-select/form/div/app-date-picker/fieldset/ngb-datepicker/div[2]/div/ngb-datepicker-month/div[4]/div[7]\"))\n",
    "    )\n",
    "    date_selector.click()\n",
    "\n",
    "    # Select a hike from the dropdown menu\n",
    "    hike_select = WebDriverWait(driver, 10).until(\n",
    "        EC.element_to_be_clickable((By.XPATH, \"/html/body/app-root/div/div[2]/app-registration/div/div/div/div/div[2]/app-facility-select/form/fieldset[1]/select\"))\n",
    "    )\n",
    "    hike_option = Select(hike_select)\n",
    "    hike_option.select_by_visible_text(\"Joffre Lakes - Trail\")\n",
    "\n",
    "    # Check if the radio button for booking is disabled\n",
    "    booking_radio_button = WebDriverWait(driver, 10).until(\n",
    "        EC.element_to_be_clickable((By.XPATH, \"/html/body/app-root/div/div[2]/app-registration/div/div/div/div/div[2]/app-facility-select/form/fieldset[2]/div/label/div/div[1]\"))\n",
    "    )\n",
    "\n",
    "    if 'card-header-disabled' in booking_radio_button.get_attribute('class'):\n",
    "        print(\"Still No\")\n",
    "    else:\n",
    "        print(\"GO GO GO\")\n",
    "\n",
    "    \n",
    "finally:\n",
    "    driver.quit()\n"
   ]
  },
  {
   "cell_type": "code",
   "execution_count": 16,
   "metadata": {},
   "outputs": [
    {
     "name": "stdout",
     "output_type": "stream",
     "text": [
      "visitTimeAM\n"
     ]
    }
   ],
   "source": [
    "from selenium import webdriver\n",
    "from selenium.webdriver.common.by import By\n",
    "from selenium.webdriver.support.ui import WebDriverWait\n",
    "from selenium.webdriver.support import expected_conditions as EC\n",
    "\n",
    "park_name=\"Golden\" \n",
    "trail_name=\"West\"\n",
    "target_date=\"2024-07-20\"\n",
    "\n",
    "# Initialize the WebDriver\n",
    "driver = webdriver.Chrome()\n",
    "driver.get(\"https://reserve.bcparks.ca/dayuse/\")\n",
    "\n",
    "park_button = WebDriverWait(driver, 10).until(\n",
    "    EC.element_to_be_clickable((By.XPATH, f\"//button[contains(@aria-label, '{park_name}')]\"))\n",
    ")\n",
    "\n",
    "# Click the park button\n",
    "park_button.click()\n",
    "\n",
    "# Click on the date field\n",
    "date_field = WebDriverWait(driver, 10).until(\n",
    "    EC.element_to_be_clickable((By.XPATH, \"/html/body/app-root/div/div[2]/app-registration/div/div/div/div/div[2]/app-facility-select/form/div/app-date-picker/fieldset\"))\n",
    ")\n",
    "date_field.click()\n",
    "\n",
    "# Click on a specific date in the date picker\n",
    "date_selector = WebDriverWait(driver, 10).until(\n",
    "    EC.element_to_be_clickable((By.XPATH, \"/html/body/app-root/div/div[2]/app-registration/div/div/div/div/div[2]/app-facility-select/form/div/app-date-picker/fieldset/ngb-datepicker/div[2]/div/ngb-datepicker-month/div[4]/div[7]\"))\n",
    ")\n",
    "date_selector.send_keys(target_date)\n",
    "date_selector.click()\n",
    "\n",
    "# Select a hike from the dropdown menu\n",
    "hike_select = WebDriverWait(driver, 10).until(\n",
    "    EC.element_to_be_clickable((By.XPATH, f\"//select//option[contains(., '{trail_name}')]\"))\n",
    ")\n",
    "hike_select.click()\n",
    "booking_options = WebDriverWait(driver, 10).until(\n",
    "    EC.element_to_be_clickable((By.CLASS_NAME, \"card-header\"))\n",
    ")\n",
    "# booking_options = driver.find_elements(By.CLASS_NAME, \"card-header\")\n",
    "children = booking_options.find_elements(By.TAG_NAME, \"input\")\n",
    "for child in children:\n",
    "    print(child.get_attribute('id'))\n",
    "# available = 'Not Available'\n",
    "# for b in booking_options:\n",
    "#     print(b.get_attribute('class'))\n",
    "#     print(b.get_attribute()\n",
    "#     if 'card-header-disabled' not in b.get_attribute('class'):\n",
    "#         available = 'Available'\n",
    "# print(f\"{park_name} - {trail_name} - {available}\")"
   ]
  }
 ],
 "metadata": {
  "kernelspec": {
   "display_name": "Python 3",
   "language": "python",
   "name": "python3"
  },
  "language_info": {
   "codemirror_mode": {
    "name": "ipython",
    "version": 3
   },
   "file_extension": ".py",
   "mimetype": "text/x-python",
   "name": "python",
   "nbconvert_exporter": "python",
   "pygments_lexer": "ipython3",
   "version": "3.12.4"
  }
 },
 "nbformat": 4,
 "nbformat_minor": 2
}
